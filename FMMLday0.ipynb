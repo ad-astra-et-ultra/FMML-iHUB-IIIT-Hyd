{
  "nbformat": 4,
  "nbformat_minor": 0,
  "metadata": {
    "colab": {
      "name": "FMMLday0.ipynb",
      "provenance": [],
      "authorship_tag": "ABX9TyOBcDyBSIYlovXHIZnGDDMB",
      "include_colab_link": true
    },
    "kernelspec": {
      "name": "python3",
      "display_name": "Python 3"
    },
    "language_info": {
      "name": "python"
    }
  },
  "cells": [
    {
      "cell_type": "markdown",
      "metadata": {
        "id": "view-in-github",
        "colab_type": "text"
      },
      "source": [
        "<a href=\"https://colab.research.google.com/github/shake-coder/FMML-iHUB-IIIT-Hyd/blob/main/FMMLday0.ipynb\" target=\"_parent\"><img src=\"https://colab.research.google.com/assets/colab-badge.svg\" alt=\"Open In Colab\"/></a>"
      ]
    },
    {
      "cell_type": "code",
      "execution_count": 2,
      "metadata": {
        "id": "uzEW8HVhs5m7"
      },
      "outputs": [],
      "source": [
        ""
      ]
    }
  ]
}